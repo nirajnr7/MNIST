{
 "cells": [
  {
   "cell_type": "code",
   "execution_count": 1,
   "metadata": {},
   "outputs": [
    {
     "name": "stderr",
     "output_type": "stream",
     "text": [
      "C:\\Users\\niraj_nr7\\Anaconda3\\lib\\site-packages\\h5py\\__init__.py:36: FutureWarning: Conversion of the second argument of issubdtype from `float` to `np.floating` is deprecated. In future, it will be treated as `np.float64 == np.dtype(float).type`.\n",
      "  from ._conv import register_converters as _register_converters\n"
     ]
    },
    {
     "name": "stdout",
     "output_type": "stream",
     "text": [
      "WARNING:tensorflow:From <ipython-input-1-c16218e83603>:5: read_data_sets (from tensorflow.contrib.learn.python.learn.datasets.mnist) is deprecated and will be removed in a future version.\n",
      "Instructions for updating:\n",
      "Please use alternatives such as official/mnist/dataset.py from tensorflow/models.\n",
      "WARNING:tensorflow:From C:\\Users\\niraj_nr7\\Anaconda3\\lib\\site-packages\\tensorflow\\contrib\\learn\\python\\learn\\datasets\\mnist.py:260: maybe_download (from tensorflow.contrib.learn.python.learn.datasets.base) is deprecated and will be removed in a future version.\n",
      "Instructions for updating:\n",
      "Please write your own downloading logic.\n",
      "WARNING:tensorflow:From C:\\Users\\niraj_nr7\\Anaconda3\\lib\\site-packages\\tensorflow\\contrib\\learn\\python\\learn\\datasets\\mnist.py:262: extract_images (from tensorflow.contrib.learn.python.learn.datasets.mnist) is deprecated and will be removed in a future version.\n",
      "Instructions for updating:\n",
      "Please use tf.data to implement this functionality.\n",
      "Extracting MNIST_data\\train-images-idx3-ubyte.gz\n",
      "WARNING:tensorflow:From C:\\Users\\niraj_nr7\\Anaconda3\\lib\\site-packages\\tensorflow\\contrib\\learn\\python\\learn\\datasets\\mnist.py:267: extract_labels (from tensorflow.contrib.learn.python.learn.datasets.mnist) is deprecated and will be removed in a future version.\n",
      "Instructions for updating:\n",
      "Please use tf.data to implement this functionality.\n",
      "Extracting MNIST_data\\train-labels-idx1-ubyte.gz\n",
      "WARNING:tensorflow:From C:\\Users\\niraj_nr7\\Anaconda3\\lib\\site-packages\\tensorflow\\contrib\\learn\\python\\learn\\datasets\\mnist.py:110: dense_to_one_hot (from tensorflow.contrib.learn.python.learn.datasets.mnist) is deprecated and will be removed in a future version.\n",
      "Instructions for updating:\n",
      "Please use tf.one_hot on tensors.\n",
      "Extracting MNIST_data\\t10k-images-idx3-ubyte.gz\n",
      "Extracting MNIST_data\\t10k-labels-idx1-ubyte.gz\n",
      "WARNING:tensorflow:From C:\\Users\\niraj_nr7\\Anaconda3\\lib\\site-packages\\tensorflow\\contrib\\learn\\python\\learn\\datasets\\mnist.py:290: DataSet.__init__ (from tensorflow.contrib.learn.python.learn.datasets.mnist) is deprecated and will be removed in a future version.\n",
      "Instructions for updating:\n",
      "Please use alternatives such as official/mnist/dataset.py from tensorflow/models.\n"
     ]
    }
   ],
   "source": [
    "import numpy as np\n",
    "import tensorflow as tf\n",
    "from tensorflow.examples.tutorials.mnist import input_data\n",
    "\n",
    "mnist=input_data.read_data_sets('MNIST_data',one_hot=True)"
   ]
  },
  {
   "cell_type": "markdown",
   "metadata": {},
   "source": [
    "# outline "
   ]
  },
  {
   "cell_type": "code",
   "execution_count": 2,
   "metadata": {},
   "outputs": [],
   "source": [
    "input_size=784\n",
    "\n",
    "output_size=10 \n",
    "hidden_layer_size=50"
   ]
  },
  {
   "cell_type": "code",
   "execution_count": 3,
   "metadata": {},
   "outputs": [],
   "source": [
    "tf.reset_default_graph()"
   ]
  },
  {
   "cell_type": "markdown",
   "metadata": {},
   "source": [
    "# placeholder"
   ]
  },
  {
   "cell_type": "code",
   "execution_count": 4,
   "metadata": {},
   "outputs": [],
   "source": [
    "inputs=tf.placeholder(tf.float32,shape=(None,input_size))\n",
    "targets=tf.placeholder(tf.float32,shape=(None,output_size))"
   ]
  },
  {
   "cell_type": "markdown",
   "metadata": {},
   "source": [
    "\n",
    "# variables"
   ]
  },
  {
   "cell_type": "code",
   "execution_count": 5,
   "metadata": {},
   "outputs": [],
   "source": [
    "weights_1=tf.get_variable('weights_1',[input_size,hidden_layer_size])\n",
    "biases_1=tf.get_variable('biases_1',[hidden_layer_size])\n",
    "\n",
    "output_1=tf.nn.relu(tf.matmul(inputs,weights_1)+biases_1)\n",
    "\n",
    "weights_2=tf.get_variable('weights_2',[hidden_layer_size,hidden_layer_size])\n",
    "biases_2=tf.get_variable('biases_2',[hidden_layer_size])\n",
    "\n",
    "output_2=tf.nn.relu(tf.matmul(output_1,weights_2)+biases_2)\n",
    "\n",
    "weights_3=tf.get_variable('weights_3',[hidden_layer_size,output_size])\n",
    "biases_3=tf.get_variable('biases_3',[output_size])\n",
    "\n",
    "output=tf.matmul(output_2,weights_3)+biases_3\n",
    "\n",
    "\n"
   ]
  },
  {
   "cell_type": "markdown",
   "metadata": {},
   "source": [
    "# objective function"
   ]
  },
  {
   "cell_type": "code",
   "execution_count": 6,
   "metadata": {},
   "outputs": [
    {
     "name": "stdout",
     "output_type": "stream",
     "text": [
      "WARNING:tensorflow:From <ipython-input-6-5061861d7079>:1: softmax_cross_entropy_with_logits (from tensorflow.python.ops.nn_ops) is deprecated and will be removed in a future version.\n",
      "Instructions for updating:\n",
      "\n",
      "Future major versions of TensorFlow will allow gradients to flow\n",
      "into the labels input on backprop by default.\n",
      "\n",
      "See @{tf.nn.softmax_cross_entropy_with_logits_v2}.\n",
      "\n"
     ]
    }
   ],
   "source": [
    "loss=tf.nn.softmax_cross_entropy_with_logits(logits=output,labels=targets)\n",
    "mean_loss=tf.reduce_mean(loss)\n",
    "optimizer=tf.train.AdamOptimizer(learning_rate=0.001).minimize(mean_loss)"
   ]
  },
  {
   "cell_type": "markdown",
   "metadata": {},
   "source": [
    "# calculating accuracy\n"
   ]
  },
  {
   "cell_type": "code",
   "execution_count": 7,
   "metadata": {},
   "outputs": [],
   "source": [
    "out_equal_targets=tf.equal(tf.argmax(output,1),tf.argmax(targets,1))\n",
    "accuracy=tf.reduce_mean(tf.cast(out_equal_targets,tf.float32))\n"
   ]
  },
  {
   "cell_type": "markdown",
   "metadata": {},
   "source": [
    "# batching and early stopping"
   ]
  },
  {
   "cell_type": "code",
   "execution_count": 8,
   "metadata": {},
   "outputs": [
    {
     "name": "stdout",
     "output_type": "stream",
     "text": [
      "Epoch: 1Traing loss: 0.394validation loss: 0.191validation accuracy: 94.58%\n",
      "Epoch: 2Traing loss: 0.176validation loss: 0.155validation accuracy: 95.38%\n",
      "Epoch: 3Traing loss: 0.133validation loss: 0.120validation accuracy: 96.36%\n",
      "Epoch: 4Traing loss: 0.108validation loss: 0.111validation accuracy: 96.62%\n",
      "Epoch: 5Traing loss: 0.092validation loss: 0.103validation accuracy: 96.88%\n",
      "Epoch: 6Traing loss: 0.080validation loss: 0.094validation accuracy: 97.46%\n",
      "Epoch: 7Traing loss: 0.071validation loss: 0.094validation accuracy: 97.26%\n",
      "Epoch: 8Traing loss: 0.062validation loss: 0.093validation accuracy: 97.04%\n",
      "Epoch: 9Traing loss: 0.054validation loss: 0.096validation accuracy: 97.18%\n",
      "end of tainning\n"
     ]
    }
   ],
   "source": [
    "sess=tf.InteractiveSession()\n",
    "\n",
    "initializer=tf.global_variables_initializer()\n",
    "sess.run(initializer)\n",
    "\n",
    "batch_size=100\n",
    "max_epoch=15\n",
    "\n",
    "batch_number=mnist.train.num_examples //batch_size\n",
    "pre_validation_loss=9999999.\n",
    "\n",
    "for epoch_counter in range(max_epoch):\n",
    "    \n",
    "    curr_epoch_loss=0\n",
    "    \n",
    "    for batch_counter in range(batch_number):\n",
    "        \n",
    "        input_batch,target_batch=mnist.train.next_batch(batch_size)\n",
    "        \n",
    "        _,batch_loss=sess.run([optimizer,mean_loss],\n",
    "                             feed_dict={inputs:input_batch,targets:target_batch})\n",
    "        \n",
    "        curr_epoch_loss+=batch_loss\n",
    "        \n",
    "    curr_epoch_loss/=batch_number\n",
    "    \n",
    "    input_batch,target_batch=mnist.validation.next_batch(mnist.validation.num_examples)\n",
    "    \n",
    "    validation_loss,validation_accuracy=sess.run([mean_loss,accuracy],\n",
    "                                                 feed_dict={inputs:input_batch,targets:target_batch})\n",
    "    \n",
    "    \n",
    "    \n",
    "    print('Epoch: '+str(epoch_counter+1)+\n",
    "         'Traing loss: '+'{0:.3f}'.format(curr_epoch_loss)+\n",
    "         'validation loss: '+'{0:.3f}'.format(validation_loss)+\n",
    "          'validation accuracy: '+'{0:.2f}'.format(validation_accuracy*100.)+'%'         \n",
    "         \n",
    "         )\n",
    "    if validation_loss>pre_validation_loss:\n",
    "        break\n",
    "    \n",
    "    pre_validation_loss=validation_loss\n",
    "    \n",
    "    \n",
    "print('end of tainning')\n",
    "        "
   ]
  },
  {
   "cell_type": "markdown",
   "metadata": {},
   "source": [
    "# test\n",
    "\n"
   ]
  },
  {
   "cell_type": "code",
   "execution_count": 9,
   "metadata": {},
   "outputs": [
    {
     "name": "stdout",
     "output_type": "stream",
     "text": [
      "TESt accuracy: 97.00%\n"
     ]
    }
   ],
   "source": [
    "input_batch,target_batch=mnist.test.next_batch(batch_size)\n",
    "test_accuracy=sess.run([accuracy],\n",
    "                      feed_dict={inputs:input_batch,targets:target_batch})\n",
    "test_accuracy_percent=test_accuracy[0]*100\n",
    "\n",
    "print('TESt accuracy: '+'{0:.2f}'.format(test_accuracy_percent)+'%')"
   ]
  },
  {
   "cell_type": "code",
   "execution_count": null,
   "metadata": {},
   "outputs": [],
   "source": []
  }
 ],
 "metadata": {
  "kernelspec": {
   "display_name": "Python 3",
   "language": "python",
   "name": "python3"
  },
  "language_info": {
   "codemirror_mode": {
    "name": "ipython",
    "version": 3
   },
   "file_extension": ".py",
   "mimetype": "text/x-python",
   "name": "python",
   "nbconvert_exporter": "python",
   "pygments_lexer": "ipython3",
   "version": "3.6.5"
  }
 },
 "nbformat": 4,
 "nbformat_minor": 2
}
